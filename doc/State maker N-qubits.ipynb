{
 "cells": [
  {
   "cell_type": "markdown",
   "metadata": {},
   "source": [
    "# State Maker for N-qubits"
   ]
  },
  {
   "cell_type": "markdown",
   "metadata": {},
   "source": [
    "We construct a 9-qubit ($N=9$) circuit generate any desired state $| \\psi_{out} > \\sum_{x=0}^{2^9-1} a_x | x>$. The coeficients $a_x$ are real because we only care about the amplitudes. Our goal is to get a given probability distribution for measured state $x$ descrived by $\\{ |a_x|^2\\}$.\n",
    "\n",
    "For that we will use $N-1=8$ gates before $N-1=8$ $\\text{CNOT}$ gates to control the entanglement between qubits. Then we perform $N=9$ gates to tune the final state."
   ]
  },
  {
   "cell_type": "code",
   "execution_count": 2,
   "metadata": {},
   "outputs": [],
   "source": [
    "from qiskit import *\n",
    "import numpy as np"
   ]
  },
  {
   "cell_type": "code",
   "execution_count": 4,
   "metadata": {},
   "outputs": [
    {
     "data": {
      "image/png": "[encoded data removed]",
      "text/plain": [
       "<Figure size 698.32x204.68 with 1 Axes>"
      ]
     },
     "execution_count": 4,
     "metadata": {},
     "output_type": "execute_result"
    }
   ],
   "source": [
    "N = 2\n",
    "\n",
    "thetas = np.zeros((N,2))\n",
    "\n",
    "circuit = QuantumCircuit(N, N)\n",
    "\n",
    "## ENTANGLEMENT PHASE\n",
    "for i in range(N):\n",
    "    circuit.u3(thetas[i, 0], 0, 0, i)\n",
    "    if i != N-1:\n",
    "        circuit.cx(i, i+1)\n",
    "    else:\n",
    "        circuit.cx(i, 0)\n",
    "\n",
    "circuit.barrier()\n",
    "\n",
    "## STATE TUNING PHASE\n",
    "for i in range(N):\n",
    "    circuit.u3(thetas[i,1], 0, 0, i)\n",
    "    \n",
    "%matplotlib inline\n",
    "circuit.draw(output='mpl', filename='2_qbit_circuit.png')"
   ]
  },
  {
   "cell_type": "code",
   "execution_count": null,
   "metadata": {},
   "outputs": [],
   "source": []
  }
 ],
 "metadata": {
  "kernelspec": {
   "display_name": "Python 3",
   "language": "python",
   "name": "python3"
  },
  "language_info": {
   "codemirror_mode": {
    "name": "ipython",
    "version": 3
   },
   "file_extension": ".py",
   "mimetype": "text/x-python",
   "name": "python",
   "nbconvert_exporter": "python",
   "pygments_lexer": "ipython3",
   "version": "3.7.4"
  }
 },
 "nbformat": 4,
 "nbformat_minor": 2
}

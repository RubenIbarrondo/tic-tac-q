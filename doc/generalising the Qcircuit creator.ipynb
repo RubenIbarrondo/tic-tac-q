{
 "cells": [
  {
   "cell_type": "code",
   "execution_count": 45,
   "metadata": {
    "scrolled": true
   },
   "outputs": [
    {
     "name": "stdout",
     "output_type": "stream",
     "text": [
      "[[0. 0.]\n",
      " [0. 0.]\n",
      " [0. 0.]]\n",
      "[[1, 2], [0.5, 1.3], [1.2, 0.3]]\n"
     ]
    }
   ],
   "source": [
    "from qiskit import *\n",
    "import numpy as np\n",
    "\n",
    "def state_maker_n(thetas, Q=2):\n",
    "\n",
    "\n",
    "\n",
    "    circuit = QuantumCircuit(Q, Q)\n",
    "\n",
    "    ## ENTANGLEMENT PHASE               POR ALGUNA RAZON SI THETAS NO ES UN ARRAY DE NUMPY ESTO DA ERROR POR \n",
    "    for i in range(Q):                # NO SE INTEGER INDICES\n",
    "        circuit.u3(thetas[i][0], 0, 0, i)\n",
    "        if i != Q-1:\n",
    "            circuit.cx(i, i+1)\n",
    "        else:\n",
    "            circuit.cx(i, 0)\n",
    "\n",
    "    circuit.barrier()\n",
    "\n",
    "    ## STATE TUNING PHASE\n",
    "    for i in range(Q):\n",
    "        circuit.u3(thetas[i][1], 0, 0, i)\n",
    "\n",
    "    \n",
    "    return circuit\n",
    "    \n",
    "def get_ensemble_Q(thetas, Q=2, T=1024):\n",
    "    circuit = state_maker_n(thetas, Q)\n",
    "    \n",
    "    for i in range(Q):\n",
    "        circuit.measure(i,i)\n",
    "\n",
    "    simulator = Aer.get_backend('qasm_simulator')\n",
    "    result = execute(circuit, backend = simulator, shots = T).result()\n",
    "    counts = result.get_counts()\n",
    "    return counts\n",
    "    \n",
    "Q=3\n",
    "thetas = np.zeros((Q,2))\n",
    "thetas2 = [[1,2],[0.5,1.3],[1.2,0.3]]\n",
    "print(thetas)\n",
    "print(thetas2)\n",
    "#circuit = state_maker_n(thetas, Q)\n",
    "\n",
    "#%matplotlib inline\n",
    "#circuit.draw(output='mpl')\n"
   ]
  },
  {
   "cell_type": "code",
   "execution_count": 46,
   "metadata": {},
   "outputs": [
    {
     "name": "stdout",
     "output_type": "stream",
     "text": [
      "{'011': 2, '010': 205, '001': 365, '110': 27, '000': 121, '111': 205, '100': 99}\n"
     ]
    }
   ],
   "source": [
    "thetas = [[1,2],[0.5,1.3],[1.2,0.3]]\n",
    "counts = get_ensemble_n(thetas2, 3)\n",
    "print(counts)\n",
    "#plot_histogram(counts)"
   ]
  },
  {
   "cell_type": "code",
   "execution_count": null,
   "metadata": {},
   "outputs": [],
   "source": []
  },
  {
   "cell_type": "code",
   "execution_count": null,
   "metadata": {},
   "outputs": [],
   "source": []
  }
 ],
 "metadata": {
  "kernelspec": {
   "display_name": "Python 3",
   "language": "python",
   "name": "python3"
  },
  "language_info": {
   "codemirror_mode": {
    "name": "ipython",
    "version": 3
   },
   "file_extension": ".py",
   "mimetype": "text/x-python",
   "name": "python",
   "nbconvert_exporter": "python",
   "pygments_lexer": "ipython3",
   "version": "3.7.4"
  }
 },
 "nbformat": 4,
 "nbformat_minor": 2
}
